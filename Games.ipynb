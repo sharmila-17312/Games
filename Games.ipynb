{
  "nbformat": 4,
  "nbformat_minor": 0,
  "metadata": {
    "colab": {
      "provenance": []
    },
    "kernelspec": {
      "name": "python3",
      "display_name": "Python 3"
    },
    "language_info": {
      "name": "python"
    }
  },
  "cells": [
    {
      "cell_type": "code",
      "source": [
        "import random # Only used to simulate random computer choices\n",
        "\n",
        "def play_game():\n",
        "    options = [\"rock\", \"paper\", \"scissors\"]\n",
        "    while True:\n",
        "        user_choice = input(\"Enter rock, paper, or scissors (or 'exit' to quit): \").lower()\n",
        "        if user_choice == 'exit':\n",
        "            print(\"Thanks for playing!\")\n",
        "            break\n",
        "\n",
        "        if user_choice not in options:\n",
        "            print(\"Invalid choice, try again.\")\n",
        "            continue\n",
        "\n",
        "        computer_choice = random.choice(options)\n",
        "        print(f\"Computer chose: {computer_choice}\")\n",
        "\n",
        "        if user_choice == computer_choice:\n",
        "            print(\"It's a tie!\")\n",
        "        elif (user_choice == \"rock\" and computer_choice == \"scissors\") or \\\n",
        "             (user_choice == \"paper\" and computer_choice == \"rock\") or \\\n",
        "             (user_choice == \"scissors\" and computer_choice == \"paper\"):\n",
        "            print(\"You win!\")\n",
        "        else:\n",
        "            print(\"You lose!\")\n",
        "\n",
        "play_game()"
      ],
      "metadata": {
        "colab": {
          "base_uri": "https://localhost:8080/"
        },
        "id": "4_4R9AlwhEdT",
        "outputId": "d5eda80c-c387-40e1-f2ea-aa8414a1a8e8"
      },
      "execution_count": 5,
      "outputs": [
        {
          "output_type": "stream",
          "name": "stdout",
          "text": [
            "Enter rock, paper, or scissors (or 'exit' to quit): rock\n",
            "Computer chose: paper\n",
            "You lose!\n",
            "Enter rock, paper, or scissors (or 'exit' to quit): scissors\n",
            "Computer chose: paper\n",
            "You win!\n",
            "Enter rock, paper, or scissors (or 'exit' to quit): rock\n",
            "Computer chose: scissors\n",
            "You win!\n",
            "Enter rock, paper, or scissors (or 'exit' to quit): paper\n",
            "Computer chose: paper\n",
            "It's a tie!\n",
            "Enter rock, paper, or scissors (or 'exit' to quit): paper\n",
            "Computer chose: rock\n",
            "You win!\n",
            "Enter rock, paper, or scissors (or 'exit' to quit): exit\n",
            "Thanks for playing!\n"
          ]
        }
      ]
    }
  ]
}